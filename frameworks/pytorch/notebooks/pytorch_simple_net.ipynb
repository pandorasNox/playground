{
 "cells": [
  {
   "cell_type": "code",
   "execution_count": 7,
   "metadata": {},
   "outputs": [
    {
     "name": "stdout",
     "output_type": "stream",
     "text": [
      "Populating the interactive namespace from numpy and matplotlib\n",
      "0.4.0\n",
      "True\n"
     ]
    }
   ],
   "source": [
    "%pylab inline\n",
    "import os\n",
    "import numpy as np\n",
    "import torch\n",
    "import torch.nn as nn\n",
    "import torch.nn.functional as F\n",
    "import torch.utils.data.dataloader as dataloader\n",
    "import torch.optim as optim\n",
    "\n",
    "from torch.utils.data import TensorDataset\n",
    "from torch.autograd import Variable\n",
    "\n",
    "from torchvision import transforms\n",
    "from torchvision.datasets import MNIST\n",
    "\n",
    "print(torch.__version__)\n",
    "print(\"0.4.0\" == torch.__version__)"
   ]
  },
  {
   "cell_type": "code",
   "execution_count": 2,
   "metadata": {},
   "outputs": [
    {
     "name": "stdout",
     "output_type": "stream",
     "text": [
      "data  mySimpleNet.pt  pytorch_mnist.ipynb  pytorch_simple_net.ipynb\n",
      "processed  raw\n",
      "bar\n"
     ]
    }
   ],
   "source": [
    "!ls\n",
    "!ls data\n",
    "foo = \"bar\"\n",
    "print(f'{foo}')"
   ]
  },
  {
   "cell_type": "code",
   "execution_count": 3,
   "metadata": {},
   "outputs": [
    {
     "name": "stdout",
     "output_type": "stream",
     "text": [
      "30\n",
      "1 2\n",
      "[1, 2, 3, 4]\n"
     ]
    }
   ],
   "source": [
    "def ffoo(fbar=30):\n",
    "    print(fbar)\n",
    "ffoo()\n",
    "\n",
    "abfoo = (1,2)\n",
    "\n",
    "(afoo,bfoo) = abfoo\n",
    "\n",
    "print(afoo, bfoo)\n",
    "\n",
    "print([1,2] + [3,4])"
   ]
  },
  {
   "cell_type": "code",
   "execution_count": 15,
   "metadata": {},
   "outputs": [
    {
     "name": "stdout",
     "output_type": "stream",
     "text": [
      "tensorY:\n"
     ]
    },
    {
     "ename": "RuntimeError",
     "evalue": "Overflow when unpacking long",
     "output_type": "error",
     "traceback": [
      "\u001b[0;31m---------------------------------------------------------------------------\u001b[0m",
      "\u001b[0;31mRuntimeError\u001b[0m                              Traceback (most recent call last)",
      "\u001b[0;32m<ipython-input-15-dd455a2efcfc>\u001b[0m in \u001b[0;36m<module>\u001b[0;34m()\u001b[0m\n\u001b[1;32m     18\u001b[0m \u001b[0;34m\u001b[0m\u001b[0m\n\u001b[1;32m     19\u001b[0m \u001b[0;34m\u001b[0m\u001b[0m\n\u001b[0;32m---> 20\u001b[0;31m \u001b[0mtestTorch\u001b[0m\u001b[0;34m(\u001b[0m\u001b[0;34m)\u001b[0m\u001b[0;34m\u001b[0m\u001b[0m\n\u001b[0m",
      "\u001b[0;32m<ipython-input-15-dd455a2efcfc>\u001b[0m in \u001b[0;36mtestTorch\u001b[0;34m()\u001b[0m\n\u001b[1;32m      6\u001b[0m     \u001b[0mtensorY\u001b[0m \u001b[0;34m=\u001b[0m \u001b[0mtorch\u001b[0m\u001b[0;34m.\u001b[0m\u001b[0mTensor\u001b[0m\u001b[0;34m(\u001b[0m\u001b[0;36m2\u001b[0m\u001b[0;34m,\u001b[0m\u001b[0;36m3\u001b[0m\u001b[0;34m)\u001b[0m\u001b[0;34m\u001b[0m\u001b[0m\n\u001b[1;32m      7\u001b[0m     \u001b[0mprint\u001b[0m\u001b[0;34m(\u001b[0m\u001b[0;34m'tensorY:'\u001b[0m\u001b[0;34m)\u001b[0m\u001b[0;34m\u001b[0m\u001b[0m\n\u001b[0;32m----> 8\u001b[0;31m     \u001b[0mprint\u001b[0m\u001b[0;34m(\u001b[0m\u001b[0mtensorY\u001b[0m\u001b[0;34m)\u001b[0m\u001b[0;34m\u001b[0m\u001b[0m\n\u001b[0m\u001b[1;32m      9\u001b[0m    \u001b[0;31m# tensorZ = torch.Tensor([[1,2,3], [4,5,6]]) #<= each array is one row, colums are def by array values\u001b[0m\u001b[0;34m\u001b[0m\u001b[0;34m\u001b[0m\u001b[0m\n\u001b[1;32m     10\u001b[0m    \u001b[0;31m# print('tensorZ:')\u001b[0m\u001b[0;34m\u001b[0m\u001b[0;34m\u001b[0m\u001b[0m\n",
      "\u001b[0;32m/usr/local/lib/python3.6/dist-packages/torch/tensor.py\u001b[0m in \u001b[0;36m__repr__\u001b[0;34m(self)\u001b[0m\n\u001b[1;32m     55\u001b[0m         \u001b[0;31m# characters to replace unicode characters with.\u001b[0m\u001b[0;34m\u001b[0m\u001b[0;34m\u001b[0m\u001b[0m\n\u001b[1;32m     56\u001b[0m         \u001b[0;32mif\u001b[0m \u001b[0msys\u001b[0m\u001b[0;34m.\u001b[0m\u001b[0mversion_info\u001b[0m \u001b[0;34m>\u001b[0m \u001b[0;34m(\u001b[0m\u001b[0;36m3\u001b[0m\u001b[0;34m,\u001b[0m\u001b[0;34m)\u001b[0m\u001b[0;34m:\u001b[0m\u001b[0;34m\u001b[0m\u001b[0m\n\u001b[0;32m---> 57\u001b[0;31m             \u001b[0;32mreturn\u001b[0m \u001b[0mtorch\u001b[0m\u001b[0;34m.\u001b[0m\u001b[0m_tensor_str\u001b[0m\u001b[0;34m.\u001b[0m\u001b[0m_str\u001b[0m\u001b[0;34m(\u001b[0m\u001b[0mself\u001b[0m\u001b[0;34m)\u001b[0m\u001b[0;34m\u001b[0m\u001b[0m\n\u001b[0m\u001b[1;32m     58\u001b[0m         \u001b[0;32melse\u001b[0m\u001b[0;34m:\u001b[0m\u001b[0;34m\u001b[0m\u001b[0m\n\u001b[1;32m     59\u001b[0m             \u001b[0;32mif\u001b[0m \u001b[0mhasattr\u001b[0m\u001b[0;34m(\u001b[0m\u001b[0msys\u001b[0m\u001b[0;34m.\u001b[0m\u001b[0mstdout\u001b[0m\u001b[0;34m,\u001b[0m \u001b[0;34m'encoding'\u001b[0m\u001b[0;34m)\u001b[0m\u001b[0;34m:\u001b[0m\u001b[0;34m\u001b[0m\u001b[0m\n",
      "\u001b[0;32m/usr/local/lib/python3.6/dist-packages/torch/_tensor_str.py\u001b[0m in \u001b[0;36m_str\u001b[0;34m(self)\u001b[0m\n\u001b[1;32m    216\u001b[0m             \u001b[0msuffix\u001b[0m \u001b[0;34m=\u001b[0m \u001b[0;34m', dtype='\u001b[0m \u001b[0;34m+\u001b[0m \u001b[0mstr\u001b[0m\u001b[0;34m(\u001b[0m\u001b[0mself\u001b[0m\u001b[0;34m.\u001b[0m\u001b[0mdtype\u001b[0m\u001b[0;34m)\u001b[0m \u001b[0;34m+\u001b[0m \u001b[0msuffix\u001b[0m\u001b[0;34m\u001b[0m\u001b[0m\n\u001b[1;32m    217\u001b[0m \u001b[0;34m\u001b[0m\u001b[0m\n\u001b[0;32m--> 218\u001b[0;31m         \u001b[0mfmt\u001b[0m\u001b[0;34m,\u001b[0m \u001b[0mscale\u001b[0m\u001b[0;34m,\u001b[0m \u001b[0msz\u001b[0m \u001b[0;34m=\u001b[0m \u001b[0m_number_format\u001b[0m\u001b[0;34m(\u001b[0m\u001b[0mself\u001b[0m\u001b[0;34m)\u001b[0m\u001b[0;34m\u001b[0m\u001b[0m\n\u001b[0m\u001b[1;32m    219\u001b[0m         \u001b[0;32mif\u001b[0m \u001b[0mscale\u001b[0m \u001b[0;34m!=\u001b[0m \u001b[0;36m1\u001b[0m\u001b[0;34m:\u001b[0m\u001b[0;34m\u001b[0m\u001b[0m\n\u001b[1;32m    220\u001b[0m             \u001b[0mprefix\u001b[0m \u001b[0;34m=\u001b[0m \u001b[0mprefix\u001b[0m \u001b[0;34m+\u001b[0m \u001b[0mSCALE_FORMAT\u001b[0m\u001b[0;34m.\u001b[0m\u001b[0mformat\u001b[0m\u001b[0;34m(\u001b[0m\u001b[0mscale\u001b[0m\u001b[0;34m)\u001b[0m \u001b[0;34m+\u001b[0m \u001b[0;34m' '\u001b[0m \u001b[0;34m*\u001b[0m \u001b[0mindent\u001b[0m\u001b[0;34m\u001b[0m\u001b[0m\n",
      "\u001b[0;32m/usr/local/lib/python3.6/dist-packages/torch/_tensor_str.py\u001b[0m in \u001b[0;36m_number_format\u001b[0;34m(tensor, min_sz)\u001b[0m\n\u001b[1;32m     94\u001b[0m     \u001b[0;31m# TODO: use fmod?\u001b[0m\u001b[0;34m\u001b[0m\u001b[0;34m\u001b[0m\u001b[0m\n\u001b[1;32m     95\u001b[0m     \u001b[0;32mfor\u001b[0m \u001b[0mvalue\u001b[0m \u001b[0;32min\u001b[0m \u001b[0mtensor\u001b[0m\u001b[0;34m:\u001b[0m\u001b[0;34m\u001b[0m\u001b[0m\n\u001b[0;32m---> 96\u001b[0;31m         \u001b[0;32mif\u001b[0m \u001b[0mvalue\u001b[0m \u001b[0;34m!=\u001b[0m \u001b[0mmath\u001b[0m\u001b[0;34m.\u001b[0m\u001b[0mceil\u001b[0m\u001b[0;34m(\u001b[0m\u001b[0mvalue\u001b[0m\u001b[0;34m.\u001b[0m\u001b[0mitem\u001b[0m\u001b[0;34m(\u001b[0m\u001b[0;34m)\u001b[0m\u001b[0;34m)\u001b[0m\u001b[0;34m:\u001b[0m\u001b[0;34m\u001b[0m\u001b[0m\n\u001b[0m\u001b[1;32m     97\u001b[0m             \u001b[0mint_mode\u001b[0m \u001b[0;34m=\u001b[0m \u001b[0;32mFalse\u001b[0m\u001b[0;34m\u001b[0m\u001b[0m\n\u001b[1;32m     98\u001b[0m             \u001b[0;32mbreak\u001b[0m\u001b[0;34m\u001b[0m\u001b[0m\n",
      "\u001b[0;31mRuntimeError\u001b[0m: Overflow when unpacking long"
     ]
    }
   ],
   "source": [
    "def testTorch():\n",
    "    #tensorX = torch.Tensor(2,3)\n",
    "    #print('tensorX:')\n",
    "    #print(tensorX)\n",
    "\n",
    "    tensorY = torch.Tensor(2,3)\n",
    "    print('tensorY:')\n",
    "    print(tensorY)\n",
    "   # tensorZ = torch.Tensor([[1,2,3], [4,5,6]]) #<= each array is one row, colums are def by array values\n",
    "   # print('tensorZ:')\n",
    "   # print(tensorZ)\n",
    "    \n",
    "   # print(\"add all Tensors\")\n",
    "   # print(tensorX + tensorY + tensorZ)\n",
    "    #print(\"mult all Tensors\")\n",
    "    #print(tensorX * tensorY * tensorZ)\n",
    "    #return\n",
    "\n",
    "\n",
    "testTorch()"
   ]
  },
  {
   "cell_type": "code",
   "execution_count": 9,
   "metadata": {},
   "outputs": [
    {
     "name": "stdout",
     "output_type": "stream",
     "text": [
      "SimpleNet(\n",
      "  (lin1): Linear(in_features=10, out_features=10, bias=True)\n",
      "  (lin2): Linear(in_features=10, out_features=10, bias=True)\n",
      ")\n",
      "simpleInput: tensor([[-0.1245, -1.9566,  0.6147,  0.0566,  0.6505,  1.0475, -1.2492,\n",
      "         -1.8463, -1.3778, -0.8704],\n",
      "        [-1.2603,  0.7804, -0.3554,  0.3300,  0.6657,  2.6402, -0.2427,\n",
      "         -0.2888, -1.1266,  0.5498],\n",
      "        [-1.3521,  0.5391,  1.7804, -0.1150,  1.1246,  1.2677, -1.3748,\n",
      "          0.6032, -0.1974, -0.7568],\n",
      "        [ 0.8443,  0.3565,  0.9827, -0.5655, -0.8161,  0.2394, -0.6919,\n",
      "          0.2551, -0.0937, -0.1155],\n",
      "        [ 0.9466,  0.2744, -1.9955, -0.5552,  0.8540, -1.2655,  0.2971,\n",
      "         -0.4768, -0.4461,  1.0833],\n",
      "        [-0.0401, -1.6510,  1.1970, -0.4058,  0.8086, -0.6477, -0.8775,\n",
      "         -0.4794, -2.3124,  0.0232],\n",
      "        [-1.3372,  0.6186,  0.5261,  1.0467,  1.0424, -0.5577, -1.0043,\n",
      "          2.6361, -1.0920,  0.1378],\n",
      "        [ 1.6733, -0.9186, -0.2413, -1.0568, -1.1222, -0.5244, -0.1850,\n",
      "         -1.5697, -0.8650, -0.4371],\n",
      "        [ 1.8697,  1.4271,  0.0540, -0.4755,  2.0658, -0.2833, -0.2314,\n",
      "          1.7797,  1.0179,  1.0151],\n",
      "        [-2.1520, -0.4495,  0.8199, -0.3089, -0.5447,  2.7090,  0.4541,\n",
      "         -0.4723, -0.5329,  0.0554]])\n",
      "simpleOut: tensor([[ 0.2565, -0.1110,  0.0780, -0.2729, -0.0999,  0.2331,  0.0290,\n",
      "         -0.4015,  0.3982, -0.1659],\n",
      "        [ 0.7353, -0.1694,  0.3462, -0.3056, -0.2367, -0.0330,  0.3776,\n",
      "         -0.8951,  1.2877,  0.1027],\n",
      "        [ 0.5251, -0.1363,  0.3489, -0.4697,  0.4265,  0.1871, -0.3072,\n",
      "         -1.0761,  0.5166, -0.1914],\n",
      "        [ 0.2188, -0.1632, -0.0731, -0.1318, -0.2551,  0.4102,  0.1730,\n",
      "         -0.4431,  0.4520, -0.1344],\n",
      "        [ 0.3009,  0.0504, -0.1174, -0.3542, -0.0416,  0.1565,  0.1504,\n",
      "         -0.4817,  0.5302, -0.0571],\n",
      "        [ 0.1802,  0.0396, -0.0132, -0.4413, -0.1759,  0.2784,  0.1935,\n",
      "         -0.2914,  0.4063,  0.0444],\n",
      "        [ 0.5671,  0.3146,  0.0579, -0.5446,  0.5761, -0.0364, -0.1984,\n",
      "         -1.0205,  0.6222,  0.0923],\n",
      "        [ 0.3153, -0.1426, -0.1050, -0.0403, -0.3511,  0.5584,  0.3493,\n",
      "         -0.4967,  0.5533, -0.1069],\n",
      "        [ 0.2877,  0.1583,  0.0199, -0.4662,  0.2063,  0.3114, -0.0827,\n",
      "         -0.6067,  0.3334,  0.0399],\n",
      "        [ 0.7458, -0.4374,  0.4656, -0.1858, -0.4608, -0.0004,  0.3562,\n",
      "         -0.8765,  1.2958, -0.0901]])\n"
     ]
    },
    {
     "name": "stderr",
     "output_type": "stream",
     "text": [
      "/usr/local/lib/python3.6/dist-packages/torch/serialization.py:193: UserWarning: Couldn't retrieve source code for container of type SimpleNet. It won't be checked for correctness upon loading.\n",
      "  \"type \" + obj.__name__ + \". It won't be checked \"\n"
     ]
    },
    {
     "name": "stdout",
     "output_type": "stream",
     "text": [
      "total 40\r\n",
      "drwxr-xr-x 8 root root   272 May 14 20:05 .\r\n",
      "drwx------ 1 root root  4096 May 13 16:56 ..\r\n",
      "drwxr-xr-x 4 root root   136 May 14 20:00 .ipynb_checkpoints\r\n",
      "drwxr-xr-x 4 root root   136 May 13 17:06 data\r\n",
      "-rw-r--r-- 1 root root  3910 May 14 20:04 myNEt.pt\r\n",
      "-rw-r--r-- 1 root root  3910 May 14 20:05 mySimpleNet.pt\r\n",
      "-rw-r--r-- 1 root root 12417 May 14 20:04 pytorch_mnist.ipynb\r\n",
      "-rw-r--r-- 1 root root  9237 May 14 20:05 pytorch_simple_net.ipynb\r\n"
     ]
    }
   ],
   "source": [
    "class SimpleNet(nn.Module):\n",
    "    def __init__(self):\n",
    "        super(SimpleNet, self).__init__()\n",
    "        \n",
    "        #add/create nn layers\n",
    "        input_features = 10\n",
    "        lin1_outputFeatures = 10\n",
    "        self.lin1 = nn.Linear(input_features, lin1_outputFeatures) #<= could this self.Linear ???\n",
    "        lin2_inputFeatures = lin1_outputFeatures\n",
    "        lin2_outputFeatures = 10\n",
    "        self.lin2 = nn.Linear(lin2_inputFeatures, lin2_outputFeatures) #<= could this self.Linear ???\n",
    "        \n",
    "    def forward(self, x):\n",
    "        x = self.lin1(x)\n",
    "        x = F.relu(x) #<= pass F as injection\n",
    "\n",
    "        x = self.lin2(x)\n",
    "        #x = F.hardtanh(self.lin2(x)) #<= pass F as injection\n",
    "\n",
    "        out = x\n",
    "        return out\n",
    "    \n",
    "    def num_flat_features(self, x):\n",
    "        size = x.size()[1:] # attention: mini batch / stochachistig grad\n",
    "        num = 1\n",
    "        for i in size:\n",
    "            num *= i\n",
    "        return num\n",
    "        \n",
    "\n",
    "MySimpleNet = SimpleNet()\n",
    "print(MySimpleNet)\n",
    "\n",
    "#load net\n",
    "if os.path.isfile('mySimpleNet.pt'):\n",
    "    MySimpleNet = torch.load('myNet.pt')\n",
    "\n",
    "simpleInputTensor = torch.randn(10, 10)\n",
    "simpleInput = Variable(simpleInputTensor)\n",
    "\n",
    "print('simpleInput:', simpleInput)\n",
    "\n",
    "simpleOut = MySimpleNet(simpleInput) #<= POSSIBLE\n",
    "print('simpleOut:', simpleOut)\n",
    "\n",
    "#--\n",
    "\n",
    "#simpleCriterion = nn.MSELoss()\n",
    "\n",
    "#save net\n",
    "torch.save(MySimpleNet, 'mySimpleNet.pt')\n",
    "!ls -al"
   ]
  },
  {
   "cell_type": "code",
   "execution_count": 11,
   "metadata": {},
   "outputs": [
    {
     "name": "stdout",
     "output_type": "stream",
     "text": [
      "total 36\r\n",
      "drwxr-xr-x 7 root root   238 May 14 20:05 .\r\n",
      "drwx------ 1 root root  4096 May 13 16:56 ..\r\n",
      "drwxr-xr-x 4 root root   136 May 14 20:00 .ipynb_checkpoints\r\n",
      "drwxr-xr-x 4 root root   136 May 13 17:06 data\r\n",
      "-rw-r--r-- 1 root root  3910 May 14 20:05 mySimpleNet.pt\r\n",
      "-rw-r--r-- 1 root root 12417 May 14 20:04 pytorch_mnist.ipynb\r\n",
      "-rw-r--r-- 1 root root  9237 May 14 20:05 pytorch_simple_net.ipynb\r\n"
     ]
    }
   ],
   "source": []
  },
  {
   "cell_type": "code",
   "execution_count": null,
   "metadata": {},
   "outputs": [],
   "source": []
  }
 ],
 "metadata": {
  "kernelspec": {
   "display_name": "Python 3",
   "language": "python",
   "name": "python3"
  },
  "language_info": {
   "codemirror_mode": {
    "name": "ipython",
    "version": 3
   },
   "file_extension": ".py",
   "mimetype": "text/x-python",
   "name": "python",
   "nbconvert_exporter": "python",
   "pygments_lexer": "ipython3",
   "version": "3.6.3"
  }
 },
 "nbformat": 4,
 "nbformat_minor": 2
}
