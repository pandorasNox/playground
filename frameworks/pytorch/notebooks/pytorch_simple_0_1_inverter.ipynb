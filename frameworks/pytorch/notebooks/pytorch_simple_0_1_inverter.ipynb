{
 "cells": [
  {
   "cell_type": "markdown",
   "metadata": {},
   "source": [
    "# simple 0 1 inverter\n",
    "has one input (1 or 0) and two (?) outputs"
   ]
  },
  {
   "cell_type": "code",
   "execution_count": 3,
   "metadata": {},
   "outputs": [],
   "source": [
    "import os\n",
    "import numpy as np\n",
    "import torch\n",
    "import torch.nn as nn\n",
    "import torch.nn.functional as F\n",
    "from torch.autograd import Variable\n",
    "import torch.optim as optim\n",
    "\n"
   ]
  },
  {
   "cell_type": "code",
   "execution_count": 4,
   "metadata": {},
   "outputs": [],
   "source": [
    "class SimpleNet(torch.nn.Module):\n",
    "    def __init__(self):\n",
    "        super(SimpleNet, self).__init__()\n",
    "        \n",
    "        #add layers\n",
    "        \n",
    "        #add input layer\n",
    "        inLayer_input_features_count = 1\n",
    "        inLayer_output_features_count = 2\n",
    "        self.inputLayerLin = torch.nn.Linear(inLayer_input_features_count, inLayer_output_features_count)\n",
    "        \n",
    "        #add hidden layer\n",
    "        hiddLay1_in_features_count = inLayer_output_features_count\n",
    "        hiddLay1_out_features_count = 2\n",
    "        self.hiddLay1 = torch.nn.Linear(hiddLay1_in_features_count, hiddLay1_out_features_count)\n",
    "        \n",
    "        #add output layer\n",
    "        outLayer_in_features_count = hiddLay1_out_features_count\n",
    "        outLayer_out_features_count = 1\n",
    "        self.outLayer = torch.nn.Linear(outLayer_in_features_count, outLayer_out_features_count)\n",
    "        \n",
    "        \n",
    "    def forward(self, x):\n",
    "        x = self.inputLayerLin(x)\n",
    "        x = F.sigmoid(x)\n",
    "        x = self.hiddLay1(x)\n",
    "        x = F.sigmoid(x)\n",
    "        x = self.outLayer(x)\n",
    "        #print(\"SimpleNet ... forward ... x of outLayer\", x)\n",
    "        x = F.sigmoid(x)\n",
    "        return x\n",
    "        \n"
   ]
  },
  {
   "cell_type": "code",
   "execution_count": 5,
   "metadata": {},
   "outputs": [
    {
     "name": "stdout",
     "output_type": "stream",
     "text": [
      "[tensor([ 1.]), tensor([ 0.]), tensor([ 1.]), tensor([ 1.]), tensor([ 0.]), tensor([ 1.]), tensor([ 0.]), tensor([ 0.]), tensor([ 1.]), tensor([ 0.]), tensor([ 1.]), tensor([ 1.]), tensor([ 0.]), tensor([ 1.]), tensor([ 0.]), tensor([ 0.]), tensor([ 1.]), tensor([ 0.]), tensor([ 1.]), tensor([ 1.]), tensor([ 0.]), tensor([ 1.]), tensor([ 0.]), tensor([ 0.]), tensor([ 1.]), tensor([ 0.]), tensor([ 1.]), tensor([ 1.]), tensor([ 0.]), tensor([ 1.]), tensor([ 0.]), tensor([ 0.])]\n",
      "[tensor([ 0.]), tensor([ 1.]), tensor([ 0.]), tensor([ 0.]), tensor([ 1.]), tensor([ 0.]), tensor([ 1.]), tensor([ 1.]), tensor([ 0.]), tensor([ 1.]), tensor([ 0.]), tensor([ 0.]), tensor([ 1.]), tensor([ 0.]), tensor([ 1.]), tensor([ 1.]), tensor([ 0.]), tensor([ 1.]), tensor([ 0.]), tensor([ 0.]), tensor([ 1.]), tensor([ 0.]), tensor([ 1.]), tensor([ 1.]), tensor([ 0.]), tensor([ 1.]), tensor([ 0.]), tensor([ 0.]), tensor([ 1.]), tensor([ 0.]), tensor([ 1.]), tensor([ 1.])]\n"
     ]
    }
   ],
   "source": [
    "inputs = np.array([1, 0, 1, 1, 0, 1, 0, 0, 1, 0, 1, 1, 0, 1, 0, 0, 1, 0, 1, 1, 0, 1, 0, 0, 1, 0, 1, 1, 0, 1, 0, 0,])\n",
    "targets = inputs ^ 1\n",
    "\n",
    "inputs = list(map(lambda s: Variable(torch.Tensor([s])), inputs))\n",
    "targets = list(map(lambda s: Variable(torch.Tensor([s])), targets))\n",
    "\n",
    "\n",
    "print(inputs)\n",
    "print(targets)"
   ]
  },
  {
   "cell_type": "code",
   "execution_count": 6,
   "metadata": {},
   "outputs": [],
   "source": [
    "def train(net, inputs, targets, epochs=10):\n",
    "    #MySimpleNet.train()\n",
    "    criterion = nn.MSELoss()\n",
    "    optimizer = optim.SGD(net.parameters(), lr=0.01)\n",
    "    for idx in range(0, epochs):\n",
    "        for single_input, single_target in zip(inputs, targets):\n",
    "            optimizer.zero_grad()   # zero the gradient buffers\n",
    "            output = net(single_input)\n",
    "            loss = criterion(output, single_target)\n",
    "            loss.backward() # <= what happens here?\n",
    "            optimizer.step()    # Does the update\n",
    "        if idx % (epochs / 10) == 0:\n",
    "            print(\"Epoch {: >8} Loss: {}\".format(idx, loss.data.numpy()))"
   ]
  },
  {
   "cell_type": "code",
   "execution_count": 22,
   "metadata": {},
   "outputs": [
    {
     "name": "stdout",
     "output_type": "stream",
     "text": [
      "tensor([ 0.5876])\n"
     ]
    }
   ],
   "source": [
    "MySimpleNet = SimpleNet()\n",
    "print(MySimpleNet(inputs[0]))"
   ]
  },
  {
   "cell_type": "code",
   "execution_count": 23,
   "metadata": {},
   "outputs": [
    {
     "name": "stdout",
     "output_type": "stream",
     "text": [
      "Epoch        0 Loss: 0.17840322852134705\n",
      "Epoch      130 Loss: 0.2515670657157898\n",
      "Epoch      260 Loss: 0.250333309173584\n",
      "Epoch      390 Loss: 0.24906717240810394\n",
      "Epoch      520 Loss: 0.24698154628276825\n",
      "Epoch      650 Loss: 0.24170616269111633\n",
      "Epoch      780 Loss: 0.22322389483451843\n",
      "Epoch      910 Loss: 0.15574169158935547\n",
      "Epoch     1040 Loss: 0.059517599642276764\n",
      "Epoch     1170 Loss: 0.023411553353071213\n"
     ]
    }
   ],
   "source": [
    "train(MySimpleNet, inputs, targets, epochs=1300)"
   ]
  },
  {
   "cell_type": "code",
   "execution_count": 24,
   "metadata": {},
   "outputs": [
    {
     "name": "stdout",
     "output_type": "stream",
     "text": [
      "tensor([ 1.])\n",
      "tensor([ 0.1110])\n",
      "tensor([ 0.])\n",
      "tensor([ 0.8883])\n"
     ]
    }
   ],
   "source": [
    "print(inputs[0])\n",
    "print(MySimpleNet(inputs[0]))\n",
    "print(inputs[1])\n",
    "print(MySimpleNet(inputs[1]))"
   ]
  },
  {
   "cell_type": "code",
   "execution_count": 88,
   "metadata": {},
   "outputs": [
    {
     "name": "stdout",
     "output_type": "stream",
     "text": [
      "0\n"
     ]
    }
   ],
   "source": []
  },
  {
   "cell_type": "code",
   "execution_count": null,
   "metadata": {},
   "outputs": [],
   "source": []
  }
 ],
 "metadata": {
  "kernelspec": {
   "display_name": "Python 3",
   "language": "python",
   "name": "python3"
  },
  "language_info": {
   "codemirror_mode": {
    "name": "ipython",
    "version": 3
   },
   "file_extension": ".py",
   "mimetype": "text/x-python",
   "name": "python",
   "nbconvert_exporter": "python",
   "pygments_lexer": "ipython3",
   "version": "3.6.3"
  }
 },
 "nbformat": 4,
 "nbformat_minor": 2
}
