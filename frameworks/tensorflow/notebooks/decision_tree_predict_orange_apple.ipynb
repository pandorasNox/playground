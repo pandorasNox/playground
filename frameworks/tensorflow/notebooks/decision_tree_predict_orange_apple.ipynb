{
 "cells": [
  {
   "cell_type": "code",
   "execution_count": 2,
   "metadata": {},
   "outputs": [
    {
     "name": "stdout",
     "output_type": "stream",
     "text": [
      "[{'weight': 150, 'lable': 'orange', 'texture': 'bumpy'}, {'weight': 170, 'lable': 'orange', 'texture': 'bumpy'}, {'weight': 140, 'lable': 'orange', 'texture': 'smooth'}, {'weight': 130, 'lable': 'orange', 'texture': 'smooth'}]\n"
     ]
    }
   ],
   "source": [
    "#array of dict\n",
    "elements = [\n",
    "    {\n",
    "        \"weight\": 150, #gramm\n",
    "        \"texture\": \"bumpy\",\n",
    "        \"lable\": \"orange\",\n",
    "    },\n",
    "    {\n",
    "        \"weight\": 170,\n",
    "        \"texture\": \"bumpy\",\n",
    "        \"lable\": \"orange\",\n",
    "    },\n",
    "    {\n",
    "        \"weight\": 140,\n",
    "        \"texture\": \"smooth\",\n",
    "        \"lable\": \"apple\",\n",
    "    },\n",
    "    {\n",
    "        \"weight\": 130,\n",
    "        \"texture\": \"smooth\",\n",
    "        \"lable\": \"apple\",\n",
    "    },\n",
    "];\n",
    "\n",
    "print(elements);"
   ]
  },
  {
   "cell_type": "code",
   "execution_count": 2,
   "metadata": {},
   "outputs": [
    {
     "name": "stdout",
     "output_type": "stream",
     "text": [
      "apple\n"
     ]
    }
   ],
   "source": [
    "features = [[130, \"smooth\"], [140, \"smooth\"], [150, \"bumpy\"], [170, \"bumpy\"]];\n",
    "lables =   [\"apple\",         \"apple\",         \"orange\",       \"orange\"];\n",
    "\n",
    "# change all strings to int's\n",
    "# smooth = 1\n",
    "# bumpy = 0\n",
    "# apple = 0\n",
    "# orange = 1\n",
    "\n",
    "features = [[130, 1],[140, 1],[150, 0], [170, 0]];\n",
    "lables = [0, 0, 1, 1];\n",
    "\n",
    "# =====================================================\n",
    "\n",
    "import sklearn\n",
    "from sklearn import tree\n",
    "\n",
    "# classifiere\n",
    "clf = tree.DecisionTreeClassifier();\n",
    "clf = clf.fit(features, lables);\n",
    "\n",
    "myPrediction = clf.predict([[160, 1]])[0];\n",
    "\n",
    "print(\"apple\" if myPrediction == 0 else \"orange\");"
   ]
  },
  {
   "cell_type": "code",
   "execution_count": null,
   "metadata": {},
   "outputs": [],
   "source": []
  }
 ],
 "metadata": {
  "kernelspec": {
   "display_name": "Python 3",
   "language": "python",
   "name": "python3"
  },
  "language_info": {
   "codemirror_mode": {
    "name": "ipython",
    "version": 3
   },
   "file_extension": ".py",
   "mimetype": "text/x-python",
   "name": "python",
   "nbconvert_exporter": "python",
   "pygments_lexer": "ipython3",
   "version": "3.5.2"
  }
 },
 "nbformat": 4,
 "nbformat_minor": 2
}
